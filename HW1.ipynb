{
 "cells": [
  {
   "cell_type": "code",
   "execution_count": 29,
   "metadata": {},
   "outputs": [],
   "source": [
    "import math"
   ]
  },
  {
   "cell_type": "code",
   "execution_count": 30,
   "metadata": {},
   "outputs": [],
   "source": [
    "def numbers_and_strings():\n",
    "# Assign a string \"EE551\" to a variable x\n",
    "    x = \"EE551\"\n",
    "    print(x)\n",
    "# Assign a string \"Stevens\" to a variable y\n",
    "    y = \"Stevens\"\n",
    "    print(y)\n",
    "# Repeat variable y 5 times\n",
    "    z = y * 5\n",
    "    print(z)\n",
    "# What is the length of z?\n",
    "    length = len(z)\n",
    "    print(length)\n",
    "# Concatenate variable y with string \" is good\"\n",
    "    m = y + \" is good\"\n",
    "    print(m)\n",
    "# Replace \"good\" with \"awesome\" in variable m and assign it to a new variable n\n",
    "    n = m.replace('good', 'awesome')\n",
    "    print(n)\n",
    "    \n",
    "    return x, y, z, length, m, n"
   ]
  },
  {
   "cell_type": "code",
   "execution_count": 3,
   "metadata": {},
   "outputs": [],
   "source": [
    "def lists():\n",
    "\n",
    "    n = \"Stevens is awesome\"\n",
    "    \n",
    "# Split variable n on a delimiter space into a list of substrings\n",
    "    p = (n.split(' '))\n",
    "    print(p)\n",
    "\n",
    "# Get all the items past the first of the third substring\n",
    "    r = (p[2][1:7])\n",
    "    print(r)\n",
    "    \n",
    "# Create a 3 x 3 matrix as nested list such that\n",
    "    #   first row is [1, 4, 5]\n",
    "    #   second row is [6, 10, 11]\n",
    "    #   third row is [12, 17, 38]\n",
    "\n",
    "    a = [[1, 4, 5], \n",
    "         [6, 10, 11],\n",
    "         [12, 17, 38]]\n",
    "    print(*a, sep='\\n')\n",
    "    \n",
    "# Collect the items in the last column of matrix A using list comprehension\n",
    "\n",
    "    c = [row[2] for row in a]\n",
    "    print(c)\n",
    "\n",
    "# Collect only the even items of the diagonal of matrix A using list comprehension\n",
    "    \n",
    "    l = [a[i][i] for i in [0, 1, 2]]\n",
    "    d = [num for num in l if num % 2 == 0] \n",
    "    print(d)\n",
    "\n",
    "# We can convert a single character to its underlying integer code (e.g., its ASCII byte value)\n",
    "# by passing it to the built-in ord function. Generate a list of these integers to represent\n",
    "# each character of the string \"Stevens\" using list comprehension.\n",
    "\n",
    "    value = \"Stevens\"\n",
    "    o=[ord(ch) for ch in value]\n",
    "    print(o)\n",
    "\n",
    "    return p, r, c, d, o"
   ]
  },
  {
   "cell_type": "code",
   "execution_count": 5,
   "metadata": {},
   "outputs": [],
   "source": [
    "def dictionaries():\n",
    "\n",
    "    # Create a dictionary that maps:\n",
    "    #   fruit => \"apple\"\n",
    "    #   quantity => 4\n",
    "    #   color => \"green\"\n",
    "\n",
    "    f = {'fruit' : \"apple\",\n",
    "    'quantity': 4,\n",
    "    'color': 'green'}\n",
    "    print(f)\n",
    "\n",
    " # Get the item in dictionary f that the key \"fruit\" maps to \n",
    "    \n",
    "    a = (f['fruit'])\n",
    "    print(a)\n",
    "\n",
    "# Increase the quantity of f by 1\n",
    "\n",
    "    f['quantity'] += 1\n",
    "    print(f)\n",
    "\n",
    "# Create a nested dictionary where:\n",
    "    #   name => {first_name => \"Grace\", last_name => \"Hopper\"} (a dictionary)\n",
    "    #   jobs => [\"scientist\", \"engineer\"] (a list)\n",
    "    #   age => 85\n",
    "\n",
    "    c = {'name': {'first_name': 'Grace', 'last_name': 'Hopper'},\n",
    "      'jobs': ['scientist', 'engineer'],\n",
    "      'age': 45}\n",
    "    print(c)\n",
    "\n",
    "# Add \"programmer\" to the list of jobs Grace has\n",
    "    c['jobs'].append('programmer')\n",
    "    print(c)\n",
    "\n",
    "# Get the third job Grace has that you recently added\n",
    "    p = c['jobs'][2]\n",
    "    print(p)\n",
    "\n",
    "# Use the sort() function to get sorted keys of amazing_grace in alphabetically ascending order\n",
    "    \n",
    "\n",
    "    k = list(c.keys())\n",
    "    k.sort()\n",
    "    print(k)\n",
    "    \n",
    "    return a, f, p, k\n",
    " "
   ]
  },
  {
   "cell_type": "code",
   "execution_count": 33,
   "metadata": {},
   "outputs": [
    {
     "name": "stdout",
     "output_type": "stream",
     "text": [
      "EE551\n",
      "Stevens\n",
      "StevensStevensStevensStevensStevens\n",
      "35\n",
      "Stevens is good\n",
      "Stevens is awesome\n"
     ]
    },
    {
     "data": {
      "text/plain": [
       "('EE551',\n",
       " 'Stevens',\n",
       " 'StevensStevensStevensStevensStevens',\n",
       " 35,\n",
       " 'Stevens is good',\n",
       " 'Stevens is awesome')"
      ]
     },
     "execution_count": 33,
     "metadata": {},
     "output_type": "execute_result"
    }
   ],
   "source": [
    "numbers_and_strings()"
   ]
  },
  {
   "cell_type": "code",
   "execution_count": 4,
   "metadata": {},
   "outputs": [
    {
     "name": "stdout",
     "output_type": "stream",
     "text": [
      "['Stevens', 'is', 'awesome']\n",
      "wesome\n",
      "[1, 4, 5]\n",
      "[6, 10, 11]\n",
      "[12, 17, 38]\n",
      "[5, 11, 38]\n",
      "[10, 38]\n",
      "[83, 116, 101, 118, 101, 110, 115]\n"
     ]
    },
    {
     "data": {
      "text/plain": [
       "(['Stevens', 'is', 'awesome'],\n",
       " 'wesome',\n",
       " [5, 11, 38],\n",
       " [10, 38],\n",
       " [83, 116, 101, 118, 101, 110, 115])"
      ]
     },
     "execution_count": 4,
     "metadata": {},
     "output_type": "execute_result"
    }
   ],
   "source": [
    "lists()"
   ]
  },
  {
   "cell_type": "code",
   "execution_count": 6,
   "metadata": {},
   "outputs": [
    {
     "name": "stdout",
     "output_type": "stream",
     "text": [
      "{'fruit': 'apple', 'quantity': 4, 'color': 'green'}\n",
      "apple\n",
      "{'fruit': 'apple', 'quantity': 5, 'color': 'green'}\n",
      "{'name': {'first_name': 'Grace', 'last_name': 'Hopper'}, 'jobs': ['scientist', 'engineer'], 'age': 45}\n",
      "{'name': {'first_name': 'Grace', 'last_name': 'Hopper'}, 'jobs': ['scientist', 'engineer', 'programmer'], 'age': 45}\n",
      "programmer\n",
      "['age', 'jobs', 'name']\n"
     ]
    },
    {
     "data": {
      "text/plain": [
       "('apple',\n",
       " {'fruit': 'apple', 'quantity': 5, 'color': 'green'},\n",
       " 'programmer',\n",
       " ['age', 'jobs', 'name'])"
      ]
     },
     "execution_count": 6,
     "metadata": {},
     "output_type": "execute_result"
    }
   ],
   "source": [
    "dictionaries()"
   ]
  },
  {
   "cell_type": "code",
   "execution_count": null,
   "metadata": {},
   "outputs": [],
   "source": []
  }
 ],
 "metadata": {
  "kernelspec": {
   "display_name": "Python 3",
   "language": "python",
   "name": "python3"
  },
  "language_info": {
   "codemirror_mode": {
    "name": "ipython",
    "version": 3
   },
   "file_extension": ".py",
   "mimetype": "text/x-python",
   "name": "python",
   "nbconvert_exporter": "python",
   "pygments_lexer": "ipython3",
   "version": "3.6.8"
  }
 },
 "nbformat": 4,
 "nbformat_minor": 4
}
